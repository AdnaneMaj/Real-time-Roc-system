{
 "cells": [
  {
   "cell_type": "code",
   "execution_count": 5,
   "metadata": {},
   "outputs": [
    {
     "name": "stdout",
     "output_type": "stream",
     "text": [
      "Places data inserted\n",
      "Reviews data inserted\n"
     ]
    }
   ],
   "source": [
    "import csv\n",
    "import pymongo\n",
    "from pymongo import MongoClient\n",
    "\n",
    "# MongoDB connection (Docker service name is 'mongo' in your docker-compose.yml)\n",
    " # 'mongo' is the service name in docker-compose.yml\n",
    "client = MongoClient('mongodb://localhost:27017/')\n",
    "\n",
    "db = client['projets']  # Replace with your actual database name\n",
    "\n",
    "# Insert data into 'places' collection\n",
    "\n",
    "\n",
    "def insert_places():\n",
    "    try:\n",
    "        with open('places.csv', 'r') as file:\n",
    "            reader = csv.DictReader(file)\n",
    "            places = list(reader)\n",
    "            db.places.insert_many(places)\n",
    "        print('Places data inserted')\n",
    "    except Exception as e:\n",
    "        print(f\"Error inserting places: {e}\")\n",
    "\n",
    "def insert_reviews():\n",
    "    try:\n",
    "        with open('reviews.csv', 'r') as file:\n",
    "            reader = csv.DictReader(file)\n",
    "            reviews = list(reader)\n",
    "            db.reviews.insert_many(reviews)\n",
    "        print('Reviews data inserted')\n",
    "    except Exception as e:\n",
    "        print(f\"Error inserting reviews: {e}\")\n",
    "\n",
    "\n",
    "# Call the functions to insert the data\n",
    "if __name__ == \"__main__\":\n",
    "    insert_places()\n",
    "    insert_reviews()\n"
   ]
  },
  {
   "cell_type": "code",
   "execution_count": null,
   "metadata": {},
   "outputs": [
    {
     "name": "stdout",
     "output_type": "stream",
     "text": [
      "Places data inserted\n",
      "Reviews data inserted\n"
     ]
    }
   ],
   "source": [
    "import csv\n",
    "import pymongo\n",
    "from pymongo import MongoClient\n",
    "\n",
    "# MongoDB connection (use 'localhost' if running outside Docker)\n",
    "  # Connect to MongoDB running on localhost\n",
    "client = MongoClient('mongodb://mongo:27017/')  # 'mongo' is the service name in docker-compose.yml\n",
    "\n",
    "db = client['projets']  # Replace with your actual database name\n",
    "\n",
    "# Insert data into 'places' collection\n",
    "def insert_places():\n",
    "    try:\n",
    "        with open('places.csv', 'r') as file:\n",
    "            reader = csv.DictReader(file)\n",
    "            places = list(reader)\n",
    "            db.places.insert_many(places)\n",
    "        print('Places data inserted')\n",
    "    except Exception as e:\n",
    "        print(f\"Error inserting places: {e}\")\n",
    "\n",
    "# Insert data into 'reviews' collection\n",
    "def insert_reviews():\n",
    "    try:\n",
    "        with open('reviews.csv', 'r') as file:\n",
    "            reader = csv.DictReader(file)\n",
    "            reviews = list(reader)\n",
    "            db.reviews.insert_many(reviews)\n",
    "        print('Reviews data inserted')\n",
    "    except Exception as e:\n",
    "        print(f\"Error inserting reviews: {e}\")\n",
    "\n",
    "# Call the functions to insert the data\n",
    "if __name__ == \"__main__\":\n",
    "    insert_places()\n",
    "    insert_reviews()\n"
   ]
  },
  {
   "cell_type": "code",
   "execution_count": 2,
   "metadata": {},
   "outputs": [
    {
     "name": "stdout",
     "output_type": "stream",
     "text": [
      "Defaulting to user installation because normal site-packages is not writeable\n",
      "Collecting pymongo\n",
      "  Obtaining dependency information for pymongo from https://files.pythonhosted.org/packages/02/68/b71c4106d03eef2482eade440c6f5737c2a4a42f6155726009f80ea38d06/pymongo-4.10.1-cp311-cp311-win_amd64.whl.metadata\n",
      "  Downloading pymongo-4.10.1-cp311-cp311-win_amd64.whl.metadata (22 kB)\n",
      "Collecting dnspython<3.0.0,>=1.16.0 (from pymongo)\n",
      "  Obtaining dependency information for dnspython<3.0.0,>=1.16.0 from https://files.pythonhosted.org/packages/68/1b/e0a87d256e40e8c888847551b20a017a6b98139178505dc7ffb96f04e954/dnspython-2.7.0-py3-none-any.whl.metadata\n",
      "  Downloading dnspython-2.7.0-py3-none-any.whl.metadata (5.8 kB)\n",
      "Downloading pymongo-4.10.1-cp311-cp311-win_amd64.whl (876 kB)\n",
      "   ---------------------------------------- 0.0/876.5 kB ? eta -:--:--\n",
      "   ---- ----------------------------------- 92.2/876.5 kB 2.6 MB/s eta 0:00:01\n",
      "   --------------- ------------------------ 337.9/876.5 kB 4.2 MB/s eta 0:00:01\n",
      "   ------------------------------------ --- 809.0/876.5 kB 5.7 MB/s eta 0:00:01\n",
      "   ---------------------------------------- 876.5/876.5 kB 6.1 MB/s eta 0:00:00\n",
      "Downloading dnspython-2.7.0-py3-none-any.whl (313 kB)\n",
      "   ---------------------------------------- 0.0/313.6 kB ? eta -:--:--\n",
      "   ---------------------------------------- 313.6/313.6 kB 9.8 MB/s eta 0:00:00\n",
      "Installing collected packages: dnspython, pymongo\n",
      "Successfully installed dnspython-2.7.0 pymongo-4.10.1\n",
      "Note: you may need to restart the kernel to use updated packages.\n"
     ]
    }
   ],
   "source": [
    "pip install pymongo"
   ]
  },
  {
   "cell_type": "code",
   "execution_count": null,
   "metadata": {},
   "outputs": [],
   "source": []
  }
 ],
 "metadata": {
  "kernelspec": {
   "display_name": "base",
   "language": "python",
   "name": "python3"
  },
  "language_info": {
   "codemirror_mode": {
    "name": "ipython",
    "version": 3
   },
   "file_extension": ".py",
   "mimetype": "text/x-python",
   "name": "python",
   "nbconvert_exporter": "python",
   "pygments_lexer": "ipython3",
   "version": "3.11.4"
  }
 },
 "nbformat": 4,
 "nbformat_minor": 2
}
