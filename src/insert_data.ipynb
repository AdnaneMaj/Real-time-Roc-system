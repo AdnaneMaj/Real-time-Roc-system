{
 "cells": [
  {
   "cell_type": "code",
   "execution_count": null,
   "metadata": {},
   "outputs": [
    {
     "data": {
      "text/plain": [
       "Traceback (most recent call last):\n",
       "  File \"c:\\Users\\ADMIN\\.vscode\\extensions\\ms-python.python-2024.22.2-win32-x64\\python_files\\python_server.py\", line 133, in exec_user_input\n",
       "    retval = callable_(user_input, user_globals)\n",
       "             ^^^^^^^^^^^^^^^^^^^^^^^^^^^^^^^^^^^\n",
       "  File \"<string>\", line 2, in <module>\n",
       "ModuleNotFoundError: No module named 'pymongo'\n",
       "\n"
      ]
     },
     "metadata": {},
     "output_type": "display_data"
    }
   ],
   "source": [
    "import csv\n",
    "import pymongo\n",
    "from pymongo import MongoClient\n",
    "\n",
    "# MongoDB connection (Docker service name is 'mongo' in your docker-compose.yml)\n",
    "client = MongoClient('mongodb://mongo:27017/')  # 'mongo' is the service name in docker-compose.yml\n",
    "db = client['projets']  # Replace with your actual database name\n",
    "\n",
    "# Insert data into 'places' collection\n",
    "def insert_places():\n",
    "    with open('places.csv', 'r') as file:  # Adjust the path based on your container's file system\n",
    "        reader = csv.DictReader(file)\n",
    "        places = list(reader)\n",
    "        db.places.insert_many(places)\n",
    "    print('Places data inserted')\n",
    "\n",
    "# Insert data into 'reviews' collection\n",
    "def insert_reviews():\n",
    "    with open('reviews.csv', 'r') as file:  # Adjust the path based on your container's file system\n",
    "        reader = csv.DictReader(file)\n",
    "        reviews = list(reader)\n",
    "        db.reviews.insert_many(reviews)\n",
    "    print('Reviews data inserted')\n",
    "\n",
    "# Call the functions to insert the data\n",
    "if __name__ == \"__main__\":\n",
    "    insert_places()\n",
    "    insert_reviews()\n"
   ]
  },
  {
   "cell_type": "code",
   "execution_count": null,
   "metadata": {},
   "outputs": [],
   "source": []
  }
 ],
 "metadata": {
  "language_info": {
   "name": "python"
  }
 },
 "nbformat": 4,
 "nbformat_minor": 2
}
