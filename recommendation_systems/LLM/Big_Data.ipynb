{
  "nbformat": 4,
  "nbformat_minor": 0,
  "metadata": {
    "colab": {
      "provenance": [],
      "gpuType": "T4"
    },
    "kernelspec": {
      "name": "python3",
      "display_name": "Python 3"
    },
    "language_info": {
      "name": "python"
    },
    "accelerator": "GPU"
  },
  "cells": [
    {
      "cell_type": "code",
      "source": [],
      "metadata": {
        "id": "QRYENoEpUKK3"
      },
      "execution_count": null,
      "outputs": []
    },
    {
      "cell_type": "code",
      "source": [
        "import json\n",
        "\n",
        "# Charger les données\n",
        "with open(\"places_limited.json\") as f:\n",
        "    places = json.load(f)\n",
        "\n",
        "with open(\"reviews_limited.json\") as f:\n",
        "    reviews = json.load(f)\n",
        "\n",
        "# Combiner les données\n",
        "combined_data = []\n",
        "for place in places:\n",
        "    place_reviews = [r[\"text\"] for r in reviews if r[\"business_id\"] == place[\"business_id\"]]\n",
        "    combined_entry = f\"\"\"\n",
        "    Nom: {place['name']}\n",
        "    Catégories: {place['categories']}\n",
        "    Adresse: {place['address']}, {place['city']}\n",
        "    Avis: {' | '.join(place_reviews[:3])}\n",
        "    \"\"\"\n",
        "    combined_data.append(combined_entry)"
      ],
      "metadata": {
        "id": "GhrW0Dljw-uQ"
      },
      "execution_count": 5,
      "outputs": []
    },
    {
      "cell_type": "code",
      "source": [
        "from transformers import pipeline\n",
        "\n",
        "# Charger le modèle (ajoutez \"device_map='auto'\" si vous avez un GPU)\n",
        "llm = pipeline(\"text-generation\", model=\"TinyLlama/TinyLlama-1.1B-Chat-v1.0\")"
      ],
      "metadata": {
        "colab": {
          "base_uri": "https://localhost:8080/"
        },
        "id": "CLi-v0pYuEPx",
        "outputId": "5ea84a88-6ea9-4635-e697-d133dd532cf9"
      },
      "execution_count": 7,
      "outputs": [
        {
          "output_type": "stream",
          "name": "stderr",
          "text": [
            "Device set to use cuda:0\n"
          ]
        }
      ]
    },
    {
      "cell_type": "code",
      "source": [
        "def recommend_places(user_query):\n",
        "    # Limiter le contexte aux 10 premiers établissements pour économiser de la mémoire\n",
        "    context = \"\\n\".join(combined_data[:10])\n",
        "\n",
        "    # Créer un prompt pour le LLM\n",
        "    prompt = f\"\"\"\n",
        "    [Context]\n",
        "    Here is a list of places with their information:\n",
        "    {context}\n",
        "\n",
        "    [Question]\n",
        "    {user_query}\n",
        "\n",
        "    [Instructions]\n",
        "    Recommend up to 3 places, citing their name, address, and average rating. Be concise.\n",
        "    \"\"\"\n",
        "\n",
        "    # Générer la réponse avec le LLM\n",
        "    response = llm(\n",
        "        prompt,\n",
        "        max_new_tokens=200,  # Limiter la longueur de la réponse\n",
        "        temperature=0.7,     # Contrôler la créativité\n",
        "        do_sample=True\n",
        "    )\n",
        "\n",
        "    return response[0]['generated_text']"
      ],
      "metadata": {
        "id": "yo6CSd1uzgbk"
      },
      "execution_count": 15,
      "outputs": []
    },
    {
      "cell_type": "code",
      "source": [
        "if __name__ == \"__main__\":\n",
        "    print(\"Welcome to the place recommendation system!\")\n",
        "    while True:\n",
        "        # Ask for the user's query\n",
        "        query = input(\"\\nEnter your query (ex: 'I am looking for a good Italian restaurant'): \")\n",
        "\n",
        "        # Get recommendations\n",
        "        recommendations = recommend_places(query)\n",
        "\n",
        "        # Display results\n",
        "        print(\"\\nRecommendations:\")\n",
        "        print(recommendations)\n",
        "\n",
        "        # Ask if the user wants to continue\n",
        "        continue_search = input(\"\\nDo you want to make another search? (yes/no): \")\n",
        "        if continue_search.lower() != \"yes\":\n",
        "            print(\"Thank you for using our service!\")\n",
        "            break"
      ],
      "metadata": {
        "colab": {
          "base_uri": "https://localhost:8080/"
        },
        "id": "3uBt-OxQzrGC",
        "outputId": "bf94ecf1-5502-480e-cb16-3ae2c45abe22"
      },
      "execution_count": 16,
      "outputs": [
        {
          "output_type": "stream",
          "name": "stdout",
          "text": [
            "Welcome to the place recommendation system!\n",
            "\n",
            "Enter your query (ex: 'I am looking for a good Italian restaurant'): I'm looking for a beautiful garden \n",
            "\n",
            "Recommendations:\n",
            "\n",
            "    [Context]\n",
            "    Here is a list of places with their information:\n",
            "    \n",
            "    Nom: Abby Rappoport, LAC, CMQ\n",
            "    Catégories: Doctors, Traditional Chinese Medicine, Naturopathic/Holistic, Acupuncture, Health & Medical, Nutritionists\n",
            "    Adresse: 1616 Chapala St, Ste 2, Santa Barbara\n",
            "    Avis:  \n",
            "    \n",
            "\n",
            "    Nom: The UPS Store\n",
            "    Catégories: Shipping Centers, Local Services, Notaries, Mailbox Centers, Printing Services\n",
            "    Adresse: 87 Grasso Plaza Shopping Center, Affton\n",
            "    Avis:  \n",
            "    \n",
            "\n",
            "    Nom: Target\n",
            "    Catégories: Department Stores, Shopping, Fashion, Home & Garden, Electronics, Furniture Stores\n",
            "    Adresse: 5255 E Broadway Blvd, Tucson\n",
            "    Avis:  \n",
            "    \n",
            "\n",
            "    Nom: St Honore Pastries\n",
            "    Catégories: Restaurants, Food, Bubble Tea, Coffee & Tea, Bakeries\n",
            "    Adresse: 935 Race St, Philadelphia\n",
            "    Avis:  \n",
            "    \n",
            "\n",
            "    Nom: Perkiomen Valley Brewery\n",
            "    Catégories: Brewpubs, Breweries, Food\n",
            "    Adresse: 101 Walnut St, Green Lane\n",
            "    Avis:  \n",
            "    \n",
            "\n",
            "    Nom: Sonic Drive-In\n",
            "    Catégories: Burgers, Fast Food, Sandwiches, Food, Ice Cream & Frozen Yogurt, Restaurants\n",
            "    Adresse: 615 S Main St, Ashland City\n",
            "    Avis:  \n",
            "    \n",
            "\n",
            "    Nom: Famous Footwear\n",
            "    Catégories: Sporting Goods, Fashion, Shoe Stores, Shopping, Sports Wear, Accessories\n",
            "    Adresse: 8522 Eager Road, Dierbergs Brentwood Point, Brentwood\n",
            "    Avis:  \n",
            "    \n",
            "\n",
            "    Nom: Temple Beth-El\n",
            "    Catégories: Synagogues, Religious Organizations\n",
            "    Adresse: 400 Pasadena Ave S, St. Petersburg\n",
            "    Avis:  \n",
            "    \n",
            "\n",
            "    Nom: Tsevi's Pub And Grill\n",
            "    Catégories: Pubs, Restaurants, Italian, Bars, American (Traditional), Nightlife, Greek\n",
            "    Adresse: 8025 Mackenzie Rd, Affton\n",
            "    Avis:  \n",
            "    \n",
            "\n",
            "    Nom: Sonic Drive-In\n",
            "    Catégories: Ice Cream & Frozen Yogurt, Fast Food, Burgers, Restaurants, Food\n",
            "    Adresse: 2312 Dickerson Pike, Nashville\n",
            "    Avis:  \n",
            "    \n",
            "\n",
            "    [Question]\n",
            "    I'm looking for a beautiful garden \n",
            "\n",
            "    [Instructions]\n",
            "    Recommend up to 3 places, citing their name, address, and average rating. Be concise.\n",
            "    \n",
            "    [Context]\n",
            "    Here are a few places that offer beautiful gardens:\n",
            "    \n",
            "    1. Nom: The Garden at Sunset\n",
            "    2. Catégories: Botanical Gardens, Garden Centers, Parks & Gardens\n",
            "    3. Adresse: 10650 Paseo Padre Parkway, San Antonio\n",
            "    Avis:  \n",
            "\n",
            "    1. Nom: The Dell Golf Course\n",
            "    2. Catégories: Golf Courses, Golf, Sports Centers\n",
            "    3. Adresse: 7000 Dell Road, Houston\n",
            "    Avis:  \n",
            "\n",
            "    1. Nom: The Botanical Gardens at the University of Houston\n",
            "    2. Catégories: Botanical Gardens, Parks & Gardens, Science Museums\n",
            "    3. Adresse: 6000 University Blvd, Houston\n",
            "    Avis:\n",
            "\n",
            "\n",
            "Do you want to make another search? (yes/no): no\n",
            "Thank you for using our service!\n"
          ]
        }
      ]
    },
    {
      "cell_type": "code",
      "source": [],
      "metadata": {
        "id": "_a6Vmb-7zr3V"
      },
      "execution_count": null,
      "outputs": []
    }
  ]
}