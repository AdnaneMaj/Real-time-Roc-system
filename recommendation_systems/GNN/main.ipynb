{
 "cells": [
  {
   "cell_type": "markdown",
   "metadata": {},
   "source": [
    "## Get data"
   ]
  },
  {
   "cell_type": "code",
   "execution_count": 1,
   "metadata": {},
   "outputs": [],
   "source": [
    "from src.dataset import get_data,create_random_batches,get_infos\n",
    "\n",
    "edge_index = get_data()"
   ]
  },
  {
   "cell_type": "markdown",
   "metadata": {},
   "source": [
    "## Model and training"
   ]
  },
  {
   "cell_type": "code",
   "execution_count": null,
   "metadata": {},
   "outputs": [],
   "source": [
    "#CONFIGURATION\n",
    "BATCH_SIZE = 1024\n",
    "EPOCHS = 2\n",
    "\n",
    "SPLIT = 'train'\n",
    "\n",
    "N_USERS,N_ITEMS = get_infos(edge_index=edge_index[SPLIT])\n",
    "\n",
    "batches = create_random_batches(N=N_USERS,batch_size=BATCH_SIZE)"
   ]
  },
  {
   "cell_type": "code",
   "execution_count": null,
   "metadata": {},
   "outputs": [],
   "source": [
    "from src.model import LightGCN\n",
    "\n",
    "model = LightGCN(edge_index=edge_index[SPLIT])"
   ]
  },
  {
   "cell_type": "code",
   "execution_count": null,
   "metadata": {},
   "outputs": [],
   "source": [
    "from src.model import LightGCN\n",
    "from src.train import train\n",
    "\n",
    "model = LightGCN(edge_index=edge_index[SPLIT])\n",
    "\n",
    "losses = train(model=model,epochs=EPOCHS,batches=batches,edge_index=edge_index,split=SPLIT,device='cuda')"
   ]
  }
 ],
 "metadata": {
  "kernelspec": {
   "display_name": "lightgcn_env",
   "language": "python",
   "name": "python3"
  },
  "language_info": {
   "codemirror_mode": {
    "name": "ipython",
    "version": 3
   },
   "file_extension": ".py",
   "mimetype": "text/x-python",
   "name": "python",
   "nbconvert_exporter": "python",
   "pygments_lexer": "ipython3",
   "version": "3.9.18"
  }
 },
 "nbformat": 4,
 "nbformat_minor": 2
}
